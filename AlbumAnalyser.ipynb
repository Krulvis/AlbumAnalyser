{
 "cells": [
  {
   "cell_type": "markdown",
   "metadata": {},
   "source": [
    "Interesting link <a href=\"https://yanirseroussi.com/2015/07/06/learning-about-deep-learning-through-album-cover-classification/\">Album Cover CNN </a> <a href=\"https://github.com/yanirs/bandcamp-deep-learning/\">GIT</a>\n",
    "<br />\n",
    "Caffe example: <a href=\"https://github.com/yanirs/bandcamp-deep-learning/blob/master/notebooks/02-caffe-games.ipynb\">Yanirs caffe2 pretrained model</a>\n",
    "<br />\n",
    "<a href=\"https://github.com/caffe2/models\">Caffe2 models</a>\n",
    "<br />\n",
    "<a href=\"https://github.com/caffe2/tutorials/blob/master/Loading_Pretrained_Models.ipynb\">Loading pre-trained models in Caffe2</a>"
   ]
  },
  {
   "cell_type": "code",
   "execution_count": 3,
   "metadata": {},
   "outputs": [],
   "source": [
    "import numpy as np\n",
    "import matplotlib.pyplot as plt\n",
    "import os\n",
    "\n",
    "from caffe2.python import core, model_helper, net_drawer, workspace, visualize, brew"
   ]
  },
  {
   "cell_type": "code",
   "execution_count": 3,
   "metadata": {},
   "outputs": [
    {
     "name": "stdout",
     "output_type": "stream",
     "text": [
      "1.13.1\n"
     ]
    }
   ],
   "source": [
    "import tensorflow as tf\n",
    "from tensorflow import keras\n",
    "print(tf.__version__)"
   ]
  },
  {
   "cell_type": "markdown",
   "metadata": {},
   "source": [
    "# Obtaining the Dataset"
   ]
  },
  {
   "cell_type": "code",
   "execution_count": 4,
   "metadata": {
    "scrolled": true
   },
   "outputs": [
    {
     "name": "stdout",
     "output_type": "stream",
     "text": [
      "Still needs to download 10000 covers\n",
      "Successfully downloaded 9753/10000 images\n"
     ]
    }
   ],
   "source": [
    "import requests \n",
    "import csv\n",
    "from multiprocessing.pool import ThreadPool\n",
    "\n",
    "\n",
    "def _download_image(args):\n",
    "    session, url, local_path = args[0], args[1], args[2]\n",
    "    try:\n",
    "        response = session.get(url)\n",
    "    except requests.RequestException:\n",
    "        return False\n",
    "    if response.status_code != requests.codes.ok:\n",
    "        return False\n",
    "\n",
    "    with open(local_path, 'wb') as out:\n",
    "        out.write(response.content)\n",
    "    return True\n",
    "\n",
    "def download_dataset_images(out_dir, dataset_links_tsv='dataset-links.tsv', num_threads=10):\n",
    "    \"\"\"Download the dataset images to out_dir, based on the links in dataset_links_tsv.\n",
    "\n",
    "    dataset_links_tsv is expected to be a tab-separated file with two columns: image url, and local path with format\n",
    "    <genre>/<album_id>.jpg\n",
    "    \"\"\"\n",
    "#     if os.path.exists(out_dir):\n",
    "#         raise ValueError('%s already exists' % out_dir)\n",
    "\n",
    "    session = requests.Session()\n",
    "    with open(dataset_links_tsv) as fh:\n",
    "        jobs = []\n",
    "        genres = set()\n",
    "        for url, rel_path in csv.reader(fh, delimiter='\\t'):#43 on Trending\n",
    "Hoe Thuisbezorgd een flinke hap uit jouw pizza \n",
    "            genres.add(os.path.dirname(rel_path))\n",
    "            path = os.path.join(out_dir, rel_path)\n",
    "            if not os.path.exists(path):\n",
    "                jobs.append((session, url, os.path.join(out_dir, rel_path)))\n",
    "\n",
    "    for genre in genres:\n",
    "        genre_path = os.path.join(out_dir, genre)\n",
    "        if not os.path.exists(genre_path):\n",
    "            os.makedirs(genre_path)\n",
    "            \n",
    "    print('Still needs to download {} covers'.format(len(jobs)))\n",
    "    pool = ThreadPool(num_threads)\n",
    "    num_successes = sum(pool.map(_download_image, jobs))\n",
    "    print('Successfully downloaded %s/%s images' % (num_successes, len(jobs)))\n",
    "    \n",
    "download_dataset_images('./img/')"
   ]
  },
  {
   "cell_type": "markdown",
   "metadata": {},
   "source": [
    "### Set labels"
   ]
  },
  {
   "cell_type": "code",
   "execution_count": 16,
   "metadata": {},
   "outputs": [
    {
     "data": {
      "text/plain": [
       "[('hiphop_rap', 0),\n",
       " ('dubstep', 1),\n",
       " ('rock', 2),\n",
       " ('ambient', 3),\n",
       " ('pop', 4),\n",
       " ('punk', 5),\n",
       " ('jazz', 6),\n",
       " ('folk', 7),\n",
       " ('soul', 8),\n",
       " ('metal', 9)]"
      ]
     },
     "execution_count": 16,
     "metadata": {},
     "output_type": "execute_result"
    }
   ],
   "source": [
    "labels = [(f,i) for i, f in enumerate(os.listdir('img'))]\n",
    "labels"
   ]
  },
  {
   "cell_type": "markdown",
   "metadata": {},
   "source": [
    "## Look through the downloaded Albums"
   ]
  },
  {
   "cell_type": "code",
   "execution_count": 69,
   "metadata": {},
   "outputs": [
    {
     "name": "stdout",
     "output_type": "stream",
     "text": [
      "4064 files were found under current folder. \n",
      "FUCK:  TM404-Dub Techno-Kontra-Musik-2013.jpg\n",
      "FUCK:  Knee-Deep In The North Sea-Jazz-Real World-2007.jpg\n",
      "FUCK:  ZGMF-X19A-UK Bass-Infinite Machine-2015.jpg\n",
      "FUCK:  Singles 93-03-Big Beat-Virgin-2003.jpg\n",
      "FUCK:  Everywhere at the end of time - Stage 4-Dark Ambient-History Always Favours The Winners-2018.jpg\n",
      "FUCK:  Acquiescence-Downtempo-Non-Projects-2012.jpg\n",
      "FUCK:  32 Zel  Planet Shrooms-Hip-Hop--2015.jpg\n",
      "FUCK:  Jenny Death-Hip-Hop-Harvest Records-2015.jpg\n",
      "FUCK:  Re-Animations EP-Footwork-Astrophonica-2013.jpg\n",
      "FUCK:  Czarface meets Metal Face-Hip-Hop-Silver Age-2018.jpg\n",
      "FUCK:  And. IV [Inertia]-Glitch-Raster-Noton-2012.jpg\n",
      "FUCK:  EP1 Drum Talking-Dub-One-Handed Music-2011.jpg\n",
      "FUCK:  Alas Rattoisaa Virtaa-Neo-Psychedelia-Dekorder-2014.jpg\n",
      "FUCK:  Old-Hip-Hop-Fool's Gold Records-2013.jpg\n",
      "FUCK:  Inner Treaty-Neo-Psychedelia-Sun Ark Records-2012.jpg\n",
      "FUCK:  volume 1 flick your tongue against your teeth and describe the present.-Hip-Hop--2017.png\n",
      "FUCK:  Plug 1 - Visible Crater Funk EP-Drum & Bass-Personal (Stereo)-1995.jpg\n",
      "FUCK:  Revolução 2005-2008-Latin Club-NOS Discos-2015.jpg\n",
      "FUCK:  Adapt-Subtechno-Tessier-Ashpool Recordings-2015.jpg\n",
      "FUCK:  Coalmine Records Presents Unearthed (Deluxe Edition)-Hip-Hop-Coalmine Records-2014.jpg\n",
      "FUCK:  Mouthed-Post-Industrial-Halcyon Veil-2016.jpg\n",
      "FUCK:  Spielraum-Glitch-Raster-Noton-2016.jpg\n",
      "FUCK:  L-Event-Glitch-Warp Records-2013.jpg\n",
      "FUCK:  Kairos Chronos-Neo-Psychedelia-Not Not Fun-2013.jpg\n",
      "FUCK:  Platinum Flame-Hip-Hop-Basedworld Records-2018.jpg\n",
      "FUCK:  The OD EP-Hip-Hop-Fool's Gold Records-2012.jpg\n",
      "FUCK:  Svans EP-Dub Techno-Kontra-Musik-2013.png\n",
      "FUCK:  Oil of Every Pearl's Un-Insides-Bubblegum Bass-Future Classic-2018.jpg\n",
      "FUCK:  Sinn + Form-Glitch-Raster-Noton-2015.jpg\n",
      "FUCK:  MISTA THUG ISOLATION-Hip-Hop-Hundebiss-2012.jpg\n",
      "FUCK:  Parallel Series 1-Techno-Mote-Evolver-2011.jpg\n",
      "FUCK:  Babilonia-UK Bass-Tessier-Ashpool Recordings-2014.jpg\n",
      "FUCK:  Rinse Presents Royal-T-Bassline House-Rinse-2012.jpg\n",
      "FUCK:  Fermi-UK Bass-Tessier-Ashpool Recordings-2015.jpg\n",
      "FUCK:  Raw As F--k-Big Beat-Against The Grain-2004.jpg\n",
      "FUCK:  The Weeping Worm-Hip-Hop--2014.jpg\n",
      "FUCK:  Shabazz Palaces-Hip-Hop-Templar Label Group-2009.jpg\n",
      "FUCK:  Fucked Up Friends-Neo-Psychedelia-Anticon-2008.jpg\n",
      "FUCK:  Hora de Balako-Disco-Greco-Roman-2017.jpg\n",
      "FUCK:  A Sufi And A Killer-Neo-Psychedelia-Warp Records-2010.jpg\n",
      "FUCK:  Contra-Hip-Hop-Sony Music-2017.jpg\n",
      "FUCK:  OD-Axis-Berlin School-Digitalis Recordings-2011.jpg\n",
      "FUCK:  midcity-Hip-Hop--2013.jpg\n",
      "FUCK:  Music To Moog By-Space Age Pop-Wah-Wah Records-1969.jpg\n",
      "FUCK:  If Your Girl Only Knew-Outsider House-E-Beamz-2017.jpg\n",
      "FUCK:  Doris-Hip-Hop-Odd Future-2013.jpg\n",
      "FUCK:  Cliff Of Death II-Hip-Hop--2015.jpg\n",
      "FUCK:  Sleepstep-Ambient-Raster-Noton-2015.jpg\n",
      "FUCK:  Elävänä planeetalla-Neo-Psychedelia-New Images-2011.jpg\n",
      "FUCK:  Bottomless Pit-Hip-Hop-Third Worlds-2016.jpg\n",
      "FUCK:  Fusion in Park-Acid-Kontra-Musik-2014.jpg\n",
      "FUCK:  Pastel Love - Part One-Balearic-Back To The Balearics-2013.jpg\n",
      "FUCK:  Every Hero Needs A Villain-Hip-Hop-Brick Records-2015.jpg\n",
      "FUCK:  Still Brazy-Hip-Hop-Def Jam Recordings-2016.jpg\n",
      "FUCK:  Sunsets and Clocks EP-Downtempo-Non-Projects-2013.jpg\n",
      "FUCK:  History Will Absolve Me-Hip-Hop-Backwoodz Studioz-2012.jpg\n",
      "FUCK:  Dot-Bubbles-Chiptune-Lo-Bit Playground Recordings-2006.jpg\n",
      "FUCK:  Graviton - Cx (Rigid Transmission)-Glitch-Semantica Records-2011.jpg\n",
      "FUCK:  IRISIRI-Post-Industrial-PAN-2018.jpg\n",
      "FUCK:  Reflections - Mojave Desert-Psychedelic Rock-Luaka Bop-2017.jpg\n",
      "FUCK:  Electronic Minimal Music, 1979 - 1983-Berlin School-Black Sweat Records-2015.jpg\n",
      "FUCK:  SQ777-7 Sacred Code (Encrypted)-Industrial-Asura Revolver-2017.jpg\n",
      "FUCK:  Mo7it Al-Mo7it-World Music-Constellation Records-2013.jpg\n",
      "FUCK:  La Demeure; Il Y A Péril En La Demeure-Glitch-Raster-Noton-2015.jpg\n",
      "FUCK:  good kid, m.A.A.d city-Hip-Hop-Aftermath-2012.jpg\n",
      "FUCK:  Indigoism-Hip-Hop-Brainfeeder-2013.jpg\n",
      "FUCK:  Atrocity Exhibition-Hip-Hop-Warp Records-2016.jpg\n",
      "FUCK:  Run the Jewels-Hip-Hop-Fool's Gold Records-2013.jpg\n",
      "FUCK:  Imperial-Hip-Hop--2016.jpg\n",
      "FUCK:  Sweatbox Dynasty-Neo-Psychedelia-Rad Cult-2016.jpg\n",
      "FUCK:  Asura-Downtempo-Non-Projects-2010.jpg\n",
      "FUCK:  BUST A SAG DA SINGLE-Hip-Hop--2011.jpg\n",
      "FUCK:  200 Press-Future Garage-1-800-Dinosaur-2014.jpg\n",
      "FUCK:  Mobis-Hip-Hop--2016.png\n",
      "FUCK:  So It Goes-Hip-Hop-Hot Charity-2014.jpg\n",
      "FUCK:  36-26-36-Minimal-Convex Industries-2013.jpg\n",
      "FUCK:  Acidub-Dub Techno-Kontra-Musik-2016.jpg\n",
      "FUCK:  Believe EP-UK Bass-1-800-Dinosaur-2014.jpg\n",
      "FUCK:  Sunburn EP-House-Greco-Roman-2012.png\n",
      "FUCK:  Belomancie-Neo-Psychedelia-Drag City-2014.jpg\n",
      "FUCK:  SQ777-5 Modern Esoteric-Industrial-House of the Leg-2017.jpg\n",
      "FUCK:  niggas on the moon-Hip-Hop-Harvest Records-2014.jpg\n",
      "FUCK:  -Hip-Hop-Bad Vibes Forever-2018.jpg\n",
      "FUCK:  Year Of The Snitch-Hip-Hop-Third Worlds-2018.jpg\n",
      "FUCK:  SQ777-2 Heel Aesthetic-Industrial-H.V.R.F. Central Command-2017.jpg\n",
      "FUCK:  Background Noise-Tribal-Kontra-Musik-2018.jpg\n",
      "FUCK:  NO LOVE DEEP WEB-Hip-Hop-Harvest Records-2012.jpg\n",
      "FUCK:  RN Rhythm-Variations -Glitch-Raster-Noton-2009.jpg\n",
      "FUCK:  Know Thyself-Neo-Psychedelia-Sun Ark Records-2012.jpg\n",
      "FUCK:  Shimmer-Tech House-Tessier-Ashpool Recordings-2014.jpg\n",
      "FUCK:  13-Hip-Hop-PH Recordings-2017.jpg\n",
      "FUCK:  Ascension-Neo-Psychedelia-Not Not Fun-2010.jpg\n",
      "FUCK:  Haze EP-Outsider House-E-Beamz-2016.jpg\n",
      "FUCK:  Playground-Tech House-Greco-Roman-2014.jpg\n",
      "FUCK:  SQ777-1 No Man Is God-Industrial-BLCR Laboratories-2017.jpg\n",
      "FUCK:  Black Up-Hip-Hop-Sub Pop-2011.jpg\n",
      "FUCK:  CLPPNG-Hip-Hop-Sub Pop-2014.jpg\n",
      "FUCK:  Exmilitary-Hip-Hop-Grindcore Karaoke-2011(1).jpg\n",
      "FUCK:  Urban Deity-UK Bass-Tessier-Ashpool Recordings-2014.jpg\n",
      "FUCK:  NoYork!-Hip-Hop-Nature Sounds-2011.jpg\n",
      "FUCK:  Jonwayne is Retired-Hip-Hop-Authors-2015.jpg\n",
      "FUCK:  Czarface-Hip-Hop-Brick Records-2013.jpg\n",
      "FUCK:  Mystic Thickness-Neo-Psychedelia-Anticon-2010.jpg\n",
      "FUCK:  Maniac Meat-Neo-Psychedelia-Anticon-2010.JPG\n",
      "FUCK:  Drum Vehicle-UK Bass-Tessier-Ashpool Recordings-2014.jpg\n",
      "FUCK:  The Ziggurat-Hip-Hop-African Dope-2003.jpg\n",
      "FUCK:  Trarat-Neo-Psychedelia-Leaving Records-2016.jpg\n",
      "FUCK:  Plug 2 - Rebuilt Kev EP-Drum & Bass-Personal (Stereo)-1995.jpg\n",
      "FUCK:  Quanta-Tech House-Tessier-Ashpool Recordings-2015.jpg\n",
      "FUCK:  GalaXXXian-Hip-Hop--2014.png\n",
      "FUCK:  Sexualizer - EP-Synthwave-Aphasia Records-2013.jpg\n",
      "FUCK:  Bromance #12 Baby F-16-Tech House-Bromance Records-2013.jpg\n",
      "FUCK:  SQ777-6 16-Cell-Industrial-SHUT_INS-2017.jpg\n",
      "FUCK:  Trans-Neptunian Objects-Drone-Auxiliary-2017.jpg\n",
      "FUCK:  The Money Store-Hip-Hop-Epic Records-2012.jpg\n",
      "FUCK:  Zwart-Hip-Hop-[PIAS] Recordings-2018.jpg\n",
      "FUCK:  Confusion  Re-Mover-Acid--1995.jpg\n",
      "FUCK:  Rejovich-Hip-Hop-Kaya Kaya Records-2013.jpg\n",
      "FUCK:  Nostalgic 64-Hip-Hop--2013.jpg\n",
      "FUCK:  6 Donnies-Hip-Hop--2015.jpg\n",
      "FUCK:  Welcome to Paradise (Italian Dream House 89-93)-House-Safe Trip-2017.jpg\n",
      "FUCK:  Unieqav-Glitch-Raster-Noton-2018.jpg\n",
      "FUCK:  14 Tracks Re-Wiring UK Garage-Garage-Boomkat Editions-2009.jpg\n",
      "FUCK:  Kids See Ghosts-Hip-Hop-Def Jam Recordings-2018.jpg\n",
      "FUCK:  Government Plates-Hip-Hop--2013.jpg\n",
      "FUCK:  TMA-1 EP-IDM-Space Cadets-2012.jpg\n",
      "FUCK:  Everywhere at the end of time - Stage 5-Dark Ambient-History Always Favours The Winners-2018.jpg\n",
      "FUCK:  A Piece of the Geto-Hip-Hop-Ghostly International-2017.jpg\n",
      "FUCK:  On Patrol-Neo-Psychedelia-Not Not Fun-2010.jpg\n",
      "FUCK:  Ultima II Massage-Neo-Psychedelia-Ghostly International-2014.jpg\n",
      "FUCK:  Insen-Ambient-Raster-Noton-2005.jpg\n",
      "FUCK:  Perfection-UK Bass-Tessier-Ashpool Recordings-2015.jpg\n",
      "FUCK:  New Bermuda-Metal-ANTI--2015.jpg\n",
      "FUCK:  Everywhere at the end of time - Stage 3-Ambient-History Always Favours The Winners-2017.jpg\n",
      "FUCK:  Rendez-Vous-Berlin School-Polydor-1986.jpg\n",
      "FUCK:  XXX-Hip-Hop-Fool's Gold Records-2011.jpg\n",
      "FUCK:  Mat Oput - 12-Industrial-Downwards-2009.jpg\n",
      "FUCK:  The Black Brad Pitt-Hip-Hop--2012.jpg\n",
      "FUCK:  Wit-Hip-Hop--2017.jpg\n",
      "FUCK:  Run The Jewels 2-Hip-Hop-Mass Appeal-2014.jpg\n",
      "FUCK:  Trans-80-Balearic-LN-CC Recordings-2013.jpg\n",
      "FUCK:  Exmilitary-Hip-Hop-Grindcore Karaoke-2011.jpg\n",
      "FUCK:  SECRET RAVE 01-Big Beat-art-aud-2015.jpg\n",
      "FUCK:  Capsize Recovery-Industrial-Raster-Noton-2013.jpg\n",
      "FUCK:  Fallout EP-Deconstructed Club-Sci-Fi & Fantasy-2013.jpg\n",
      "FUCK:  The Roots Of El-B-Garage-Tempa-2009.jpg\n",
      "FUCK:  BetterOffDEAD-Hip-Hop-Electric KoolAde-2013.png\n",
      "FUCK:  The Money Store-Hip-Hop-Epic Records-2012(1).jpg\n",
      "FUCK:  If I Am This Forest-Chillwave-Non-Projects-2011.JPG\n",
      "FUCK:  Raw Money Raps-Hip-Hop-Brainfeeder-2012.jpg\n",
      "FUCK:  VooDoo-U Stript-Big Beat-American Recordings-1994.png\n",
      "FUCK:  Panic Blooms-Neo-Psychedelia-Rad Cult-2018.jpg\n",
      "FUCK:  SATURATION-Hip-Hop--2017.jpg\n",
      "FUCK:  All in the Circle-Hip-Hop-World Of Wils-2015.jpg\n",
      "FUCK:  Silver Trees  Damiel-Downtempo-Non-Projects-2010.jpg\n",
      "FUCK:  Contrapposto-UK Bass-Tessier-Ashpool Recordings-2015.jpg\n",
      "FUCK:  Dandelion Gum-Neo-Psychedelia--2007.jpg\n",
      "FUCK:  Of Light-Hip-Hop-Templar Label Group-2009.jpg\n",
      "FUCK:  HD-Glitch-Raster-Noton-2013.jpg\n",
      "FUCK:  The Paris-Lagos Soundscapes-Deep House-Phonogramme-2017.jpg\n",
      "FUCK:  Summvs-Ambient-Raster-Noton-2011.jpg\n",
      "FUCK:  The Blue Quicksand Is Going Now-Post-Industrial-Loopy-2015.jpg\n",
      "FUCK:  Night Voyage Tool Kit - EP-Bassline House-Sound Pellegrino-2011.jpg\n",
      "FUCK:  Purple City  Re-Up-Dubstep-Kapsize-2009.jpg\n",
      "FUCK:  Univrs-Glitch-Raster-Noton-2011.png\n",
      "FUCK:  Big Fish Theory-Hip-Hop-Def Jam Recordings-2017.jpg\n",
      "FUCK:  Exorcise Tape-Neo-Psychedelia-Rad Cult-2013.jpg\n",
      "FUCK:  Zuology-Hip-Hop--2012.jpg\n",
      "FUCK:  From Patterns to Details-Post-Industrial-Subtext-2016.jpg\n",
      "FUCK:  SATURATION 3-Hip-Hop-Empire-2017.jpg\n",
      "FUCK:  Duality -Hip-Hop-Brainfeeder-2012.jpg\n",
      "FUCK:  Over-Under EP-Deep House-Other People-2014.jpg\n",
      "FUCK:  SQ777-4 High Kinetic Energy-Industrial-Antifur-2017.jpg\n",
      "FUCK:  Dread Risk  U-Eff-O-Drum & Bass-Diagonal Records-2017.jpg\n",
      "FUCK:  Dang-Neo-Psychedelia-Leaving Records-2016.jpg\n",
      "FUCK:  EARL-Hip-Hop-Odd Future-2010.jpg\n",
      "FUCK:  Punish, Honey-Post-Industrial-Tri Angle-2014.jpg\n",
      "FUCK:  Voodoo Of The Godsent-Dub-On-U Sound-2011.jpg\n",
      "FUCK:  Everywhere at the end of time - Stage 1-Ambient-History Always Favours The Winners-2016.jpg\n",
      "FUCK:  Growing Wild-Neo-Psychedelia-Leaving Records-2015.jpg\n",
      "FUCK:  SATURATION 2-Hip-Hop--2017.jpg\n",
      "FUCK:  Les Fleurs Du Mal-Post-Industrial-Halcyon Veil-2017.jpg\n",
      "FUCK:  Lunatics Revenge-Psychedelic Rock-Sulatron-records-2016.jpg\n",
      "FUCK:  Unitxt-Glitch-Raster-Noton-2008.jpg\n",
      "FUCK:  De Party Van Viezigheid Mixtape-Hip-Hop-Noah's Ark-2017.jpg\n",
      "FUCK:  Scarlet Jungle EP-Hip-Hop-Eglo Records-2013.jpg\n",
      "FUCK:  Ballard-Industrial-Mote-Evolver-2015.jpg\n",
      "FUCK:  Emphasis-Drum & Bass-Tessier-Ashpool Recordings-2015.jpg\n",
      "FUCK:  Plug 3 - Versatile Crib Funk EP-Drum & Bass-Personal (Stereo)-1995.jpg\n",
      "FUCK:  Sonderr - Goin Home EP-Outsider House-Lost Palms-2017.jpg\n",
      "FUCK:  Small VVorld-Hip-Hop--2014.jpg\n",
      "FUCK:  ~Treibgut-Glitch-Raster-Noton-2009.jpg\n",
      "FUCK:  Binnenstad-Hip-Hop-Yellinek-2015.jpg\n",
      "FUCK:  Infra-Dusk  Infra-Dawn-Deconstructed Club-Black Ocean-2015.jpg\n",
      "FUCK:  2012 - 2017-Deep House-Other People-2018.jpg\n",
      "FUCK:  The Face EP-Future Garage-Greco-Roman-2012.jpg\n",
      "FUCK:  SQ777-3 Emotionless Passion-Industrial-KUDATAH-2017.jpg\n",
      "FUCK:  Everywhere at the end of time - Stage 2-Ambient-History Always Favours The Winners-2017.jpg\n",
      "FUCK:  Death Grips-Hip-Hop--2011.jpg\n",
      "FUCK:  Xerrox Vol.3-Drone-Raster-Noton-2015.jpg\n",
      "FUCK:  I Don't Like Shit, I Don't Go Outside An Album by Earl Sweatshirt-Hip-Hop-Tan Cressida-2015.jpg\n",
      "FUCK:  RPG  Man Like Me-Grime-1-800-Dinosaur-2016.jpg\n",
      "We start with 77 genres which are definitely too many labels for a CNN at this point.\n"
     ]
    }
   ],
   "source": [
    "class Album:\n",
    "    \n",
    "    def __init__(self, path, infos):\n",
    "        self.path = path\n",
    "        self.name = infos[0]\n",
    "        self.genre = infos[1]\n",
    "        self.label = infos[2]\n",
    "        self.year = infos[3]\n",
    "\n",
    "def read_files(file_list):\n",
    "    albums = []\n",
    "    fucked = []\n",
    "    for i in range(len(file_list)):\n",
    "        file_name = file_list[i]\n",
    "        split = file_name.split('-')\n",
    "        if file_name.count('-') >= 4:\n",
    "            print('FUCK: ', file_name)\n",
    "            fucked.append(file_name)\n",
    "        else:\n",
    "            albums.append(Album(os.path.abspath(file_name), split))\n",
    "    return albums, fucked\n",
    "    \n",
    "\n",
    "def explore_files():\n",
    "    current_folder_filename_list = os.listdir(\"./data\") # Change this PATH to traverse other directories if you want.\n",
    "    albums, fucked = [], []\n",
    "    if current_folder_filename_list != None:\n",
    "        print(\"%s files were found under current folder. \" % len(current_folder_filename_list))\n",
    "        albums, fucked = read_files(current_folder_filename_list)\n",
    "    return albums, fucked\n",
    "\n",
    "albums, fucked = explore_files()\n",
    "genres = [a.genre for a in albums]\n",
    "\n",
    "unique_genres = sorted(set(genres))\n",
    "print(\"We start with {} genres which are definitely too many labels for a CNN at this point.\".format(len(unique_genres)))"
   ]
  },
  {
   "cell_type": "markdown",
   "metadata": {},
   "source": [
    "# Caffe2 Analysis"
   ]
  },
  {
   "cell_type": "markdown",
   "metadata": {},
   "source": [
    "### Set variables"
   ]
  },
  {
   "cell_type": "code",
   "execution_count": 26,
   "metadata": {
    "scrolled": true
   },
   "outputs": [
    {
     "name": "stdout",
     "output_type": "stream",
     "text": [
      "No mean file found!\n",
      "mean was set to:  128\n",
      "Init net file:  /usr/lib/python3.7/site-packages/caffe2/python/models/bvlc_googlenet/init_net.pb\n",
      "Predict net file:  /usr/lib/python3.7/site-packages/caffe2/python/models/bvlc_googlenet/predict_net.pb\n"
     ]
    }
   ],
   "source": [
    "from caffe2.python import models\n",
    "models = os.path.dirname(models.__file__)\n",
    "MODEL = 'bvlc_googlenet', 'init_net.pb', 'predict_net.pb', 'ilsvrc_2012_mean.npy', 227\n",
    "IMAGE_LOCATION = \"img/ambient/a4072966.jpg\"\n",
    "codes =  \"https://gist.githubusercontent.com/aaronmarkham/cd3a6b6ac071eca6f7b4a6e40e6038aa/raw/9edb4038a37da6b5a44c3b5bc52e448ff09bfe5b/alexnet_codes\"\n",
    "\n",
    "MEAN_FILE = os.path.join(models, MODEL[0], MODEL[3])\n",
    "if not os.path.exists(MEAN_FILE):\n",
    "    print(\"No mean file found!\")\n",
    "    mean = 128\n",
    "else:\n",
    "    print (\"Mean file found!\")\n",
    "    mean = np.load(MEAN_FILE).mean(1).mean(1)\n",
    "    mean = mean[:, np.newaxis, np.newaxis]\n",
    "print(\"mean was set to: \", mean)\n",
    "\n",
    "INIT_NET = os.path.join(models, MODEL[0], MODEL[1])\n",
    "PREDICT_NET = os.path.join(models, MODEL[0], MODEL[2])\n",
    "print('Init net file: ', INIT_NET)\n",
    "print('Predict net file: ', PREDICT_NET)\n",
    "\n",
    "with open(INIT_NET, \"rb\") as f:\n",
    "    init_net = f.read()\n",
    "with open(PREDICT_NET, \"rb\") as f:\n",
    "    predict_net = f.read()\n",
    "    \n",
    "p = workspace.Predictor(init_net, predict_net)"
   ]
  },
  {
   "cell_type": "markdown",
   "metadata": {},
   "source": [
    "# Clarifai Analysis"
   ]
  },
  {
   "cell_type": "code",
   "execution_count": 9,
   "metadata": {},
   "outputs": [],
   "source": [
    "from clarifai.rest import ClarifaiApp\n",
    "app = ClarifaiApp()\n",
    "\n",
    "m = app.models.get('aaa03c23b3724a16a56b629203edc62c')\n",
    "\n",
    "# app.tag_images('http://assets.rollingstone.com/assets/images/list/0e099b2214b1673fc76c6c60257b88aefe571def.jpg')"
   ]
  },
  {
   "cell_type": "code",
   "execution_count": 30,
   "metadata": {
    "scrolled": true
   },
   "outputs": [
    {
     "name": "stdout",
     "output_type": "stream",
     "text": [
      "hiphop_rap\n",
      "dubstep\n",
      "rock\n",
      "ambient\n",
      "pop\n",
      "punk\n",
      "jazz\n",
      "folk\n",
      "soul\n",
      "metal\n"
     ]
    }
   ],
   "source": [
    "def get_albums_img(main_folder):\n",
    "    img_folder_list = os.listdir(main_folder) # Change this PATH to traverse other directories if you want.\n",
    "    albums = {}\n",
    "    for folder in img_folder_list:\n",
    "        print(folder)\n",
    "        if folder not in albums.keys():\n",
    "            albums[folder] = []\n",
    "        # Retrieve images for this album\n",
    "        images = os.listdir(main_folder + '/' +folder)\n",
    "        for image in images:\n",
    "            if image not in albums[folder]:\n",
    "                albums[folder].append(image)\n",
    "                \n",
    "    return albums\n",
    "\n",
    "albums = get_albums_img(\"./img\")\n",
    "\n",
    "def get_absolute_image_path(genre, image):\n",
    "    return os.path.abspath(\"./img/{}/{}\".format(genre, image))"
   ]
  },
  {
   "cell_type": "code",
   "execution_count": 32,
   "metadata": {
    "scrolled": true
   },
   "outputs": [
    {
     "name": "stdout",
     "output_type": "stream",
     "text": [
      "/home/krulvis/PycharmProjects/AlbumAnalyser/img/ambient/a1604573766.jpg\n"
     ]
    }
   ],
   "source": [
    "tryout = albums['ambient'][0:1]\n",
    "for img in tryout:\n",
    "    path = get_absolute_image_path('ambient', img)\n",
    "    tags = m.predict('http://assets.rollingstone.com/assets/images/list/0e099b2214b1673fc76c6c60257b88aefe571def.jpg')"
   ]
  }
 ],
 "metadata": {
  "kernelspec": {
   "display_name": "Python 3",
   "language": "python",
   "name": "python3"
  },
  "language_info": {
   "codemirror_mode": {
    "name": "ipython",
    "version": 3
   },
   "file_extension": ".py",
   "mimetype": "text/x-python",
   "name": "python",
   "nbconvert_exporter": "python",
   "pygments_lexer": "ipython3",
   "version": "3.7.3"
  }
 },
 "nbformat": 4,
 "nbformat_minor": 2
}
